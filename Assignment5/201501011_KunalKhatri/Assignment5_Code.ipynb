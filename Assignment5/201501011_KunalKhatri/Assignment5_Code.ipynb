{
  "nbformat": 4,
  "nbformat_minor": 0,
  "metadata": {
    "colab": {
      "name": "Copy of Assignment 5.ipynb",
      "version": "0.3.2",
      "views": {},
      "default_view": {},
      "provenance": [
        {
          "file_id": "1u5nIsbNjl2ghdFEma43PIeFFI6XaW_yY",
          "timestamp": 1521987592134
        }
      ]
    },
    "kernelspec": {
      "display_name": "Python 2",
      "language": "python",
      "name": "python2"
    },
    "accelerator": "GPU"
  },
  "cells": [
    {
      "metadata": {
        "id": "5nv7ovlY6HNM",
        "colab_type": "code",
        "colab": {
          "autoexec": {
            "startup": false,
            "wait_interval": 0
          },
          "output_extras": [
            {
              "item_id": 13
            }
          ],
          "base_uri": "https://localhost:8080/",
          "height": 255
        },
        "outputId": "dedcba90-551b-4704-b26c-1b8ef027bd0c",
        "executionInfo": {
          "status": "ok",
          "timestamp": 1521987663072,
          "user_tz": -330,
          "elapsed": 29952,
          "user": {
            "displayName": "Kunal Khatri",
            "photoUrl": "https://lh3.googleusercontent.com/a/default-user=s128",
            "userId": "103661156835352143544"
          }
        }
      },
      "cell_type": "code",
      "source": [
        "!pip install scikit-surprise\n",
        "import numpy as np\n",
        "import surprise  # run 'pip install scikit-surprise' to install surprise\n",
        "import os\n",
        "from surprise import BaselineOnly\n",
        "from surprise import Dataset\n",
        "from surprise import Reader\n",
        "from surprise import SVD\n",
        "from surprise.model_selection import cross_validate"
      ],
      "execution_count": 1,
      "outputs": [
        {
          "output_type": "stream",
          "text": [
            "Collecting scikit-surprise\n",
            "  Downloading scikit-surprise-1.0.5.tar.gz (2.4MB)\n",
            "\u001b[K    100% |████████████████████████████████| 2.4MB 469kB/s \n",
            "\u001b[?25hCollecting joblib>=0.11 (from scikit-surprise)\n",
            "  Downloading joblib-0.11-py2.py3-none-any.whl (176kB)\n",
            "\u001b[K    100% |████████████████████████████████| 184kB 3.9MB/s \n",
            "\u001b[?25hRequirement already satisfied: numpy>=1.11.2 in /usr/local/lib/python2.7/dist-packages (from scikit-surprise)\n",
            "Requirement already satisfied: six>=1.10.0 in /usr/local/lib/python2.7/dist-packages (from scikit-surprise)\n",
            "Building wheels for collected packages: scikit-surprise\n",
            "  Running setup.py bdist_wheel for scikit-surprise ... \u001b[?25l-\b \b\\\b \b|\b \b/\b \b-\b \b\\\b \b|\b \b/\b \b-\b \bdone\n",
            "\u001b[?25h  Stored in directory: /content/.cache/pip/wheels/99/99/d8/a5468fbc316324616dee7cb2ab0c4fe9671441b96130b67e87\n",
            "Successfully built scikit-surprise\n",
            "Installing collected packages: joblib, scikit-surprise\n",
            "Successfully installed joblib-0.11 scikit-surprise-1.0.5\n"
          ],
          "name": "stdout"
        }
      ]
    },
    {
      "metadata": {
        "id": "sH8KZs4j6HO6",
        "colab_type": "code",
        "colab": {
          "autoexec": {
            "startup": false,
            "wait_interval": 0
          }
        }
      },
      "cell_type": "code",
      "source": [
        "class MatrixFacto(surprise.AlgoBase):\n",
        "    '''A basic rating prediction algorithm based on matrix factorization.'''\n",
        "    \n",
        "    def __init__(self, learning_rate, n_epochs, n_factors):\n",
        "        \n",
        "        self.lr = learning_rate  # learning rate for SGD\n",
        "        self.n_epochs = n_epochs  # number of iterations of SGD\n",
        "        self.n_factors = n_factors  # number of factors\n",
        "        self.skip_train = 0\n",
        "        \n",
        "    def train(self, trainset):\n",
        "        '''Learn the vectors p_u and q_i with SGD'''\n",
        "        \n",
        "        print('Fitting data with SGD...')\n",
        "        \n",
        "        # Randomly initialize the user and item factors.\n",
        "        p = np.random.normal(0, .1, (trainset.n_users, self.n_factors))\n",
        "        q = np.random.normal(0, .1, (trainset.n_items, self.n_factors))\n",
        "        \n",
        "        # SGD procedure\n",
        "        for _ in range(self.n_epochs):\n",
        "            for u, i, r_ui in trainset.all_ratings():\n",
        "                err = r_ui - np.dot(p[u], q[i])\n",
        "                # Update vectors p_u and q_i\n",
        "                p[u] += self.lr * err * q[i]\n",
        "                q[i] += self.lr * err * p[u]\n",
        "                # Note: in the update of q_i, we should actually use the previous (non-updated) value of p_u.\n",
        "                # In practice it makes almost no difference.\n",
        "        \n",
        "        self.p, self.q = p, q\n",
        "        self.trainset = trainset\n",
        "\n",
        "    def estimate(self, u, i):\n",
        "        '''Return the estmimated rating of user u for item i.'''\n",
        "        \n",
        "        # return scalar product between p_u and q_i if user and item are known,\n",
        "        # else return the average of all ratings\n",
        "        if self.trainset.knows_user(u) and self.trainset.knows_item(i):\n",
        "            return np.dot(self.p[u], self.q[i])\n",
        "        else:\n",
        "            return self.trainset.global_mean"
      ],
      "execution_count": 0,
      "outputs": []
    },
    {
      "metadata": {
        "id": "2BE2jG906HQS",
        "colab_type": "code",
        "colab": {
          "autoexec": {
            "startup": false,
            "wait_interval": 0
          },
          "output_extras": [
            {
              "item_id": 4
            }
          ],
          "base_uri": "https://localhost:8080/",
          "height": 68
        },
        "outputId": "1169010f-cf89-49b7-aea2-dc96a81ffa93",
        "executionInfo": {
          "status": "ok",
          "timestamp": 1521987747017,
          "user_tz": -330,
          "elapsed": 50305,
          "user": {
            "displayName": "Kunal Khatri",
            "photoUrl": "https://lh3.googleusercontent.com/a/default-user=s128",
            "userId": "103661156835352143544"
          }
        }
      },
      "cell_type": "code",
      "source": [
        "# data loading. We'll use the movielens dataset (https://grouplens.org/datasets/movielens/100k/)\n",
        "# it will be downloaded automatically.\n",
        "data2 = surprise.Dataset.load_builtin('ml-1m')\n",
        "data2.split(2)  # split data for 2-folds cross validation"
      ],
      "execution_count": 3,
      "outputs": [
        {
          "output_type": "stream",
          "text": [
            "Dataset ml-1m could not be found. Do you want to download it? [Y/n] y\n",
            "Trying to download dataset from http://files.grouplens.org/datasets/movielens/ml-1m.zip...\n",
            "Done! Dataset ml-1m has been saved to /content/.surprise_data/ml-1m\n"
          ],
          "name": "stdout"
        }
      ]
    },
    {
      "metadata": {
        "id": "0PaOL57IjDIc",
        "colab_type": "code",
        "colab": {
          "autoexec": {
            "startup": false,
            "wait_interval": 0
          }
        }
      },
      "cell_type": "code",
      "source": [
        "total_size = 1000000\n",
        "algo = MatrixFacto(learning_rate=.01, n_epochs=10,n_factors=10)"
      ],
      "execution_count": 0,
      "outputs": []
    },
    {
      "metadata": {
        "id": "M7diACjwnRWU",
        "colab_type": "code",
        "colab": {
          "autoexec": {
            "startup": false,
            "wait_interval": 0
          },
          "output_extras": [
            {
              "item_id": 3
            }
          ],
          "base_uri": "https://localhost:8080/",
          "height": 170
        },
        "outputId": "0a334331-da60-47b6-e470-f8e6d0766344",
        "executionInfo": {
          "status": "ok",
          "timestamp": 1521994413737,
          "user_tz": -330,
          "elapsed": 109606,
          "user": {
            "displayName": "Kunal Khatri",
            "photoUrl": "https://lh3.googleusercontent.com/a/default-user=s128",
            "userId": "103661156835352143544"
          }
        }
      },
      "cell_type": "code",
      "source": [
        "data = surprise.Dataset.load_builtin('ml-1m')\n",
        "evalMat = cross_validate(algo, data, measures=['RMSE', 'MAE'], cv=2, verbose=True)"
      ],
      "execution_count": 67,
      "outputs": [
        {
          "output_type": "stream",
          "text": [
            "Fitting data with SGD...\n",
            "Fitting data with SGD...\n",
            "Evaluating RMSE, MAE of algorithm MatrixFacto on 2 split(s).\n",
            "\n",
            "                  Fold 1  Fold 2  Mean    Std     \n",
            "MAE (testset)     0.7244  0.7238  0.7241  0.0003  \n",
            "RMSE (testset)    0.9232  0.9229  0.9230  0.0002  \n",
            "Fit time          67.13   60.41   63.77   3.36    \n",
            "Test time         8.16    4.66    6.41    1.75    \n"
          ],
          "name": "stdout"
        }
      ]
    },
    {
      "metadata": {
        "id": "E_DZhc7doggO",
        "colab_type": "code",
        "colab": {
          "autoexec": {
            "startup": false,
            "wait_interval": 0
          }
        }
      },
      "cell_type": "code",
      "source": [
        "temp = []\n",
        "for k in evalMat.keys():\n",
        "    temp.append(evalMat[k])\n",
        "temp = np.array(temp)\n",
        "\n",
        "rmse_2 = np.mean(temp[0])\n",
        "fitTime_2 = np.mean(temp[2])"
      ],
      "execution_count": 0,
      "outputs": []
    },
    {
      "metadata": {
        "id": "Y-cDMQ1hpIki",
        "colab_type": "code",
        "colab": {
          "autoexec": {
            "startup": false,
            "wait_interval": 0
          },
          "output_extras": [
            {
              "item_id": 1
            }
          ],
          "base_uri": "https://localhost:8080/",
          "height": 34
        },
        "outputId": "8682376c-ee33-4bc1-fde1-06412441e6fd",
        "executionInfo": {
          "status": "ok",
          "timestamp": 1521994419844,
          "user_tz": -330,
          "elapsed": 1088,
          "user": {
            "displayName": "Kunal Khatri",
            "photoUrl": "https://lh3.googleusercontent.com/a/default-user=s128",
            "userId": "103661156835352143544"
          }
        }
      },
      "cell_type": "code",
      "source": [
        "print(rmse_2,fitTime_2,mem_2)"
      ],
      "execution_count": 69,
      "outputs": [
        {
          "output_type": "stream",
          "text": [
            "(0.9230060493899674, 63.77203595638275, 250000.0)\n"
          ],
          "name": "stdout"
        }
      ]
    },
    {
      "metadata": {
        "id": "cRPnJhQvn8g2",
        "colab_type": "code",
        "colab": {
          "autoexec": {
            "startup": false,
            "wait_interval": 0
          },
          "output_extras": [
            {
              "item_id": 6
            }
          ],
          "base_uri": "https://localhost:8080/",
          "height": 221
        },
        "outputId": "38ab1694-a356-4827-b644-f9f335ad080a",
        "executionInfo": {
          "status": "ok",
          "timestamp": 1521994782353,
          "user_tz": -330,
          "elapsed": 359389,
          "user": {
            "displayName": "Kunal Khatri",
            "photoUrl": "https://lh3.googleusercontent.com/a/default-user=s128",
            "userId": "103661156835352143544"
          }
        }
      },
      "cell_type": "code",
      "source": [
        "data = surprise.Dataset.load_builtin('ml-1m')\n",
        "evalMat = cross_validate(algo, data, measures=['RMSE', 'MAE'], cv=5, verbose=True)"
      ],
      "execution_count": 70,
      "outputs": [
        {
          "output_type": "stream",
          "text": [
            "Fitting data with SGD...\n",
            "Fitting data with SGD...\n",
            "Fitting data with SGD...\n",
            "Fitting data with SGD...\n",
            "Fitting data with SGD...\n",
            "Evaluating RMSE, MAE of algorithm MatrixFacto on 5 split(s).\n",
            "\n",
            "                  Fold 1  Fold 2  Fold 3  Fold 4  Fold 5  Mean    Std     \n",
            "MAE (testset)     0.6983  0.7019  0.6975  0.6999  0.6996  0.6994  0.0015  \n",
            "RMSE (testset)    0.8918  0.8966  0.8920  0.8936  0.8948  0.8938  0.0018  \n",
            "Fit time          119.89  128.75  125.12  117.88  67.79   111.89  22.38   \n",
            "Test time         3.97    6.19    3.80    3.80    2.02    3.95    1.33    \n"
          ],
          "name": "stdout"
        }
      ]
    },
    {
      "metadata": {
        "id": "LxHt-UB4q36Q",
        "colab_type": "code",
        "colab": {
          "autoexec": {
            "startup": false,
            "wait_interval": 0
          }
        }
      },
      "cell_type": "code",
      "source": [
        "temp = []\n",
        "for k in evalMat.keys():\n",
        "    temp.append(evalMat[k])\n",
        "temp = np.array(temp)\n",
        "\n",
        "rmse_5 = np.mean(temp[0])\n",
        "fitTime_5 = np.mean(temp[2])"
      ],
      "execution_count": 0,
      "outputs": []
    },
    {
      "metadata": {
        "id": "nglwaJGVkxdc",
        "colab_type": "code",
        "colab": {
          "autoexec": {
            "startup": false,
            "wait_interval": 0
          },
          "output_extras": [
            {
              "item_id": 1
            }
          ],
          "base_uri": "https://localhost:8080/",
          "height": 34
        },
        "outputId": "9d95d11c-698e-4238-c2d6-0ad48c0e54f8",
        "executionInfo": {
          "status": "ok",
          "timestamp": 1521994784788,
          "user_tz": -330,
          "elapsed": 1206,
          "user": {
            "displayName": "Kunal Khatri",
            "photoUrl": "https://lh3.googleusercontent.com/a/default-user=s128",
            "userId": "103661156835352143544"
          }
        }
      },
      "cell_type": "code",
      "source": [
        "print(rmse_5,fitTime_5,mem_5)"
      ],
      "execution_count": 72,
      "outputs": [
        {
          "output_type": "stream",
          "text": [
            "(0.8937688994452492, 111.88573122024536, 640000.0)\n"
          ],
          "name": "stdout"
        }
      ]
    },
    {
      "metadata": {
        "id": "AQL1OMhHoPSG",
        "colab_type": "code",
        "colab": {
          "autoexec": {
            "startup": false,
            "wait_interval": 0
          },
          "output_extras": [
            {
              "item_id": 9
            }
          ],
          "base_uri": "https://localhost:8080/",
          "height": 272
        },
        "outputId": "9d93af9a-ac8c-4630-bad1-61860424c839",
        "executionInfo": {
          "status": "ok",
          "timestamp": 1521995405480,
          "user_tz": -330,
          "elapsed": 602932,
          "user": {
            "displayName": "Kunal Khatri",
            "photoUrl": "https://lh3.googleusercontent.com/a/default-user=s128",
            "userId": "103661156835352143544"
          }
        }
      },
      "cell_type": "code",
      "source": [
        "data = surprise.Dataset.load_builtin('ml-1m')\n",
        "evalMat = cross_validate(algo, data, measures=['RMSE', 'MAE'], cv=8, verbose=True)"
      ],
      "execution_count": 73,
      "outputs": [
        {
          "output_type": "stream",
          "text": [
            "Fitting data with SGD...\n",
            "Fitting data with SGD...\n",
            "Fitting data with SGD...\n",
            "Fitting data with SGD...\n",
            "Fitting data with SGD...\n",
            "Fitting data with SGD...\n",
            "Fitting data with SGD...\n",
            "Fitting data with SGD...\n",
            "Evaluating RMSE, MAE of algorithm MatrixFacto on 8 split(s).\n",
            "\n",
            "                  Fold 1  Fold 2  Fold 3  Fold 4  Fold 5  Fold 6  Fold 7  Fold 8  Mean    Std     \n",
            "MAE (testset)     0.6922  0.6932  0.6919  0.6952  0.6965  0.6948  0.6986  0.6963  0.6948  0.0022  \n",
            "RMSE (testset)    0.8863  0.8869  0.8847  0.8884  0.8894  0.8887  0.8933  0.8909  0.8886  0.0025  \n",
            "Fit time          126.65  140.62  136.22  144.93  141.41  148.31  124.31  91.62   131.76  17.07   \n",
            "Test time         2.83    3.88    2.31    2.34    2.66    2.68    2.70    1.39    2.60    0.65    \n"
          ],
          "name": "stdout"
        }
      ]
    },
    {
      "metadata": {
        "id": "XkXBLWpbq51C",
        "colab_type": "code",
        "colab": {
          "autoexec": {
            "startup": false,
            "wait_interval": 0
          }
        }
      },
      "cell_type": "code",
      "source": [
        "temp = []\n",
        "for k in evalMat.keys():\n",
        "    temp.append(evalMat[k])\n",
        "temp = np.array(temp)\n",
        "\n",
        "rmse_8 = np.mean(temp[0])\n",
        "fitTime_8 = np.mean(temp[2])\n",
        "mem_8 = (0.875*0.875)*(total_size)"
      ],
      "execution_count": 0,
      "outputs": []
    },
    {
      "metadata": {
        "id": "7zL_9PCdk2Tm",
        "colab_type": "code",
        "colab": {
          "autoexec": {
            "startup": false,
            "wait_interval": 0
          },
          "output_extras": [
            {
              "item_id": 1
            }
          ],
          "base_uri": "https://localhost:8080/",
          "height": 34
        },
        "outputId": "646adcf3-cd4a-4e3b-e09c-c27823df07d9",
        "executionInfo": {
          "status": "ok",
          "timestamp": 1521995438842,
          "user_tz": -330,
          "elapsed": 1142,
          "user": {
            "displayName": "Kunal Khatri",
            "photoUrl": "https://lh3.googleusercontent.com/a/default-user=s128",
            "userId": "103661156835352143544"
          }
        }
      },
      "cell_type": "code",
      "source": [
        "print(rmse_8,fitTime_8,mem_8)"
      ],
      "execution_count": 77,
      "outputs": [
        {
          "output_type": "stream",
          "text": [
            "(0.8885822018517204, 131.7597013115883, 765625.0)\n"
          ],
          "name": "stdout"
        }
      ]
    },
    {
      "metadata": {
        "id": "uh5x5MxCoQ_a",
        "colab_type": "code",
        "colab": {
          "autoexec": {
            "startup": false,
            "wait_interval": 0
          },
          "output_extras": [
            {
              "item_id": 11
            }
          ],
          "base_uri": "https://localhost:8080/",
          "height": 306
        },
        "outputId": "db618113-f507-42d5-9602-157ee2b54341",
        "executionInfo": {
          "status": "ok",
          "timestamp": 1521990089501,
          "user_tz": -330,
          "elapsed": 775149,
          "user": {
            "displayName": "Kunal Khatri",
            "photoUrl": "https://lh3.googleusercontent.com/a/default-user=s128",
            "userId": "103661156835352143544"
          }
        }
      },
      "cell_type": "code",
      "source": [
        "data = surprise.Dataset.load_builtin('ml-1m')\n",
        "evalMat = cross_validate(algo, data, measures=['RMSE', 'MAE'], cv=10, verbose=True)"
      ],
      "execution_count": 16,
      "outputs": [
        {
          "output_type": "stream",
          "text": [
            "Fitting data with SGD...\n",
            "Fitting data with SGD...\n",
            "Fitting data with SGD...\n",
            "Fitting data with SGD...\n",
            "Fitting data with SGD...\n",
            "Fitting data with SGD...\n",
            "Fitting data with SGD...\n",
            "Fitting data with SGD...\n",
            "Fitting data with SGD...\n",
            "Fitting data with SGD...\n",
            "Evaluating RMSE, MAE of algorithm MatrixFacto on 10 split(s).\n",
            "\n",
            "                  Fold 1  Fold 2  Fold 3  Fold 4  Fold 5  Fold 6  Fold 7  Fold 8  Fold 9  Fold 10 Mean    Std     \n",
            "MAE (testset)     0.6952  0.6946  0.6933  0.6910  0.6960  0.6945  0.6981  0.7003  0.6951  0.6897  0.6948  0.0029  \n",
            "RMSE (testset)    0.8877  0.8871  0.8870  0.8829  0.8897  0.8864  0.8914  0.8945  0.8891  0.8831  0.8879  0.0033  \n",
            "Fit time          133.45  139.46  143.34  146.70  146.66  152.72  147.95  150.19  132.59  101.40  139.45  14.19   \n",
            "Test time         2.19    2.48    2.37    2.93    2.12    2.14    2.10    2.09    2.09    1.23    2.17    0.40    \n"
          ],
          "name": "stdout"
        }
      ]
    },
    {
      "metadata": {
        "id": "7y8Mq2bnq6ve",
        "colab_type": "code",
        "colab": {
          "autoexec": {
            "startup": false,
            "wait_interval": 0
          }
        }
      },
      "cell_type": "code",
      "source": [
        "temp = []\n",
        "for k in evalMat.keys():\n",
        "    temp.append(evalMat[k])\n",
        "temp = np.array(temp)\n",
        "\n",
        "rmse_10 = np.mean(temp[0])\n",
        "fitTime_10 = np.mean(temp[2])\n",
        "mem_10 = 0.81*(total_size)"
      ],
      "execution_count": 0,
      "outputs": []
    },
    {
      "metadata": {
        "id": "906ZtA0rk42y",
        "colab_type": "code",
        "colab": {
          "autoexec": {
            "startup": false,
            "wait_interval": 0
          },
          "output_extras": [
            {
              "item_id": 1
            }
          ],
          "base_uri": "https://localhost:8080/",
          "height": 34
        },
        "outputId": "4c17e828-bfc5-47be-e372-24d575c02472",
        "executionInfo": {
          "status": "ok",
          "timestamp": 1521994022775,
          "user_tz": -330,
          "elapsed": 1106,
          "user": {
            "displayName": "Kunal Khatri",
            "photoUrl": "https://lh3.googleusercontent.com/a/default-user=s128",
            "userId": "103661156835352143544"
          }
        }
      },
      "cell_type": "code",
      "source": [
        "print(rmse_10,fitTime_10,mem_10)"
      ],
      "execution_count": 56,
      "outputs": [
        {
          "output_type": "stream",
          "text": [
            "(0.8878954698631695, 139.44640486240388, 810000.0)\n"
          ],
          "name": "stdout"
        }
      ]
    },
    {
      "metadata": {
        "id": "tOG2YxHbw1q2",
        "colab_type": "text"
      },
      "cell_type": "markdown",
      "source": [
        "## **Root Mean Square Error Analysis:**"
      ]
    },
    {
      "metadata": {
        "id": "Bl_rgm3Eo7e6",
        "colab_type": "code",
        "colab": {
          "autoexec": {
            "startup": false,
            "wait_interval": 0
          },
          "output_extras": [
            {
              "item_id": 1
            }
          ],
          "base_uri": "https://localhost:8080/",
          "height": 401
        },
        "outputId": "aae9c223-978f-45cb-f342-7ade53a269da",
        "executionInfo": {
          "status": "ok",
          "timestamp": 1521995444513,
          "user_tz": -330,
          "elapsed": 1444,
          "user": {
            "displayName": "Kunal Khatri",
            "photoUrl": "https://lh3.googleusercontent.com/a/default-user=s128",
            "userId": "103661156835352143544"
          }
        }
      },
      "cell_type": "code",
      "source": [
        "import matplotlib.pyplot as plt\n",
        "#plt.hist(lst[0,:])\n",
        "n_groups=4\n",
        "\n",
        "rmse=np.array((rmse_2,rmse_5,rmse_8,rmse_10))\n",
        "rmse=tuple(rmse.reshape(1, -1)[0])\n",
        "\n",
        "\n",
        "plt.plot([5,8,8.75,9],rmse,'ro')\n",
        "plt.xlabel('Data-size (in lakhs)')\n",
        "plt.ylabel('Root Mean Square Error')\n",
        "plt.title('Root Mean Square Error Analysis')\n",
        "\n",
        "plt.xticks([5,8,8.75,9])\n",
        "\n",
        "plt.tight_layout()\n",
        "plt.show()"
      ],
      "execution_count": 78,
      "outputs": [
        {
          "output_type": "display_data",
          "data": {
            "image/png": "[encoded data removed]",
            "text/plain": [
              "<matplotlib.figure.Figure at 0x7f46a0e7bf10>"
            ]
          },
          "metadata": {
            "tags": []
          }
        }
      ]
    },
    {
      "metadata": {
        "id": "wLr_x7KBxBOI",
        "colab_type": "text"
      },
      "cell_type": "markdown",
      "source": [
        "## **Runtime Analysis:**"
      ]
    },
    {
      "metadata": {
        "id": "76yGOYVVsepK",
        "colab_type": "code",
        "colab": {
          "autoexec": {
            "startup": false,
            "wait_interval": 0
          },
          "output_extras": [
            {
              "item_id": 1
            }
          ],
          "base_uri": "https://localhost:8080/",
          "height": 401
        },
        "outputId": "cbcb90df-f9ff-4e25-cffb-95c3f4afb6d6",
        "executionInfo": {
          "status": "ok",
          "timestamp": 1521995448276,
          "user_tz": -330,
          "elapsed": 1336,
          "user": {
            "displayName": "Kunal Khatri",
            "photoUrl": "https://lh3.googleusercontent.com/a/default-user=s128",
            "userId": "103661156835352143544"
          }
        }
      },
      "cell_type": "code",
      "source": [
        "import matplotlib.pyplot as plt\n",
        "#plt.hist(lst[0,:])\n",
        "n_groups=4\n",
        "\n",
        "fit=np.array((fitTime_2,fitTime_5,fitTime_8,fitTime_10))\n",
        "fit=tuple(fit.reshape(1, -1)[0])\n",
        "\n",
        "plt.plot([5,8,8.75,9],fit,'ro')\n",
        "plt.xlabel('Data-size (in lakhs)')\n",
        "plt.ylabel('RunTime (in seconds)')\n",
        "plt.title('RunTime Analysis')\n",
        "\n",
        "plt.xticks([5,8,8.75,9])\n",
        "\n",
        "plt.tight_layout()\n",
        "plt.show()"
      ],
      "execution_count": 79,
      "outputs": [
        {
          "output_type": "display_data",
          "data": {
            "image/png": "[encoded data removed]",
            "text/plain": [
              "<matplotlib.figure.Figure at 0x7f4699b0d450>"
            ]
          },
          "metadata": {
            "tags": []
          }
        }
      ]
    },
    {
      "metadata": {
        "id": "p8JAVe0c5Lcy",
        "colab_type": "text"
      },
      "cell_type": "markdown",
      "source": [
        "## Memory Analysis:"
      ]
    },
    {
      "metadata": {
        "id": "Nkgj-x9lwUrG",
        "colab_type": "code",
        "colab": {
          "autoexec": {
            "startup": false,
            "wait_interval": 0
          },
          "output_extras": [
            {
              "item_id": 1
            }
          ],
          "base_uri": "https://localhost:8080/",
          "height": 401
        },
        "outputId": "cd1597b9-17cd-4545-a40e-52331d048ceb",
        "executionInfo": {
          "status": "ok",
          "timestamp": 1521994033173,
          "user_tz": -330,
          "elapsed": 1405,
          "user": {
            "displayName": "Kunal Khatri",
            "photoUrl": "https://lh3.googleusercontent.com/a/default-user=s128",
            "userId": "103661156835352143544"
          }
        }
      },
      "cell_type": "code",
      "source": [
        "import matplotlib.pyplot as plt\n",
        "#plt.hist(lst[0,:])\n",
        "n_groups=4\n",
        "\n",
        "mem=np.array((mem_2,mem_5,mem_8,mem_10))\n",
        "mem=tuple(mem.reshape(1, -1)[0])\n",
        "\n",
        "plt.plot([5,8,8.75,9],mem,'ro')\n",
        "plt.xlabel('Data-size (in lakhs)')\n",
        "plt.ylabel('Memory (in bytes)')\n",
        "plt.title('Memory Analysis')\n",
        "\n",
        "plt.xticks([5,8,8.75,9])\n",
        "\n",
        "plt.tight_layout()\n",
        "plt.show()"
      ],
      "execution_count": 58,
      "outputs": [
        {
          "output_type": "display_data",
          "data": {
            "image/png": "[encoded data removed]",
            "text/plain": [
              "<matplotlib.figure.Figure at 0x7f46ae680250>"
            ]
          },
          "metadata": {
            "tags": []
          }
        }
      ]
    },
    {
      "metadata": {
        "id": "4TAZsugy4PWg",
        "colab_type": "code",
        "colab": {
          "autoexec": {
            "startup": false,
            "wait_interval": 0
          }
        }
      },
      "cell_type": "code",
      "source": [
        ""
      ],
      "execution_count": 0,
      "outputs": []
    }
  ]
}
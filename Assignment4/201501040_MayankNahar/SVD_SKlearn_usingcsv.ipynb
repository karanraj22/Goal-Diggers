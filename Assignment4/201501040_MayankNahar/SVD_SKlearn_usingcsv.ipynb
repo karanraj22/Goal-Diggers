{
 "cells": [
  {
   "cell_type": "code",
   "execution_count": 1,
   "metadata": {
    "collapsed": true
   },
   "outputs": [],
   "source": [
    "import numpy as np\n",
    "import pandas as pd\n",
    "import csv\n",
    "import sklearn.preprocessing as sk\n",
    "from gensim.corpora import MmCorpus\n",
    "import time\n",
    "from gensim.test.utils import get_tmpfile\n",
    "import gensim\n",
    "import gensim.models.lsimodel as ls\n",
    "\n",
    "from sklearn.decomposition import TruncatedSVD\n",
    "from sklearn.random_projection import sparse_random_matrix\n",
    "from sklearn.utils.extmath import randomized_svd"
   ]
  },
  {
   "cell_type": "code",
   "execution_count": 4,
   "metadata": {},
   "outputs": [
    {
     "name": "stdout",
     "output_type": "stream",
     "text": [
      "tr\n",
      "Sigma\n",
      "[ 237.07526885  109.19816569  101.01964478]\n",
      "U\n",
      "[[ 0.01048426  0.00986909 -0.0176566 ]\n",
      " [ 0.00090768  0.00037122 -0.00128431]\n",
      " [ 0.0019742   0.0031406  -0.00083702]\n",
      " ..., \n",
      " [ 0.0114385  -0.01399668 -0.00102283]\n",
      " [ 0.00052063 -0.00072888 -0.00108729]\n",
      " [ 0.00860721  0.00607833 -0.00897272]]\n",
      "VT\n",
      "[[ 0.0798431  -0.12898014 -0.07924626]\n",
      " [ 0.18439808 -0.17604559  0.08793708]\n",
      " [ 0.10134031 -0.15523448 -0.09574002]\n",
      " ..., \n",
      " [ 0.00072187  0.00061118  0.00162927]\n",
      " [ 0.0004477   0.00020714 -0.00075671]\n",
      " [ 0.00025503  0.0003691   0.00063215]]\n",
      "6.688535999999999\n"
     ]
    }
   ],
   "source": [
    "ratings_df = pd.read_csv('Books_Data.csv', dtype={'Rating': float})\n",
    "ratings_df.loc[:,'Rating'] = sk.minmax_scale(ratings_df.loc[:,'Rating'])\n",
    "\n",
    "\n",
    "R_df = ratings_df.pivot(index = 'User-ID', columns ='Book-ID', values = 'Rating').fillna(0).to_sparse(fill_value=0)\n",
    "start=time.clock()\n",
    "\n",
    "R = R_df.as_matrix()\n",
    "if(np.isinf(R).all()==False):\n",
    "    print(\"tr\")\n",
    "\n",
    "Z=gensim.matutils.Dense2Corpus(R, documents_columns=True)\n",
    "lsi=ls.LsiModel(Z, num_topics=3)\n",
    "print(\"Sigma\")\n",
    "print(lsi.projection.s)\n",
    "print(\"U\")\n",
    "print(lsi.projection.u)\n",
    "print(\"VT\")\n",
    "V = gensim.matutils.corpus2dense(lsi[Z], len(lsi.projection.s)).T / lsi.projection.s\n",
    "print(V)\n",
    "print(time.clock() - start)"
   ]
  },
  {
   "cell_type": "code",
   "execution_count": null,
   "metadata": {
    "collapsed": true
   },
   "outputs": [],
   "source": []
  }
 ],
 "metadata": {
  "kernelspec": {
   "display_name": "Python 3",
   "language": "python",
   "name": "python3"
  },
  "language_info": {
   "codemirror_mode": {
    "name": "ipython",
    "version": 3
   },
   "file_extension": ".py",
   "mimetype": "text/x-python",
   "name": "python",
   "nbconvert_exporter": "python",
   "pygments_lexer": "ipython3",
   "version": "3.6.2"
  }
 },
 "nbformat": 4,
 "nbformat_minor": 2
}

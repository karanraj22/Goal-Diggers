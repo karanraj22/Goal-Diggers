{
 "cells": [
  {
   "cell_type": "code",
   "execution_count": 1,
   "metadata": {
    "collapsed": true,
    "scrolled": true
   },
   "outputs": [],
   "source": [
    "import pandas as pd\n",
    "import numpy as np\n",
    "import time\n",
    "import sklearn.preprocessing as sk\n",
    "from sklearn.decomposition import TruncatedSVD\n",
    "from sklearn.random_projection import sparse_random_matrix\n",
    "from sklearn.utils.extmath import randomized_svd\n",
    "\n",
    "ratings_df = pd.read_csv('Books_Data.csv', dtype={'Rating': float})"
   ]
  },
  {
   "cell_type": "code",
   "execution_count": 2,
   "metadata": {
    "collapsed": true
   },
   "outputs": [],
   "source": [
    "ratings_df.loc[:,'Rating'] = sk.minmax_scale(ratings_df.loc[:,'Rating'] )"
   ]
  },
  {
   "cell_type": "markdown",
   "metadata": {},
   "source": [
    "\n",
    "R_df = ratings_df.pivot(index = 'User-ID', columns ='Book-ID', values = 'Rating').fillna(0)\n",
    "#print(R_df.head())\n"
   ]
  },
  {
   "cell_type": "code",
   "execution_count": 3,
   "metadata": {},
   "outputs": [
    {
     "name": "stdout",
     "output_type": "stream",
     "text": [
      "U\n",
      "[[ 0.01048416  0.00986883  0.01766753 ..., -0.00771672 -0.0138826\n",
      "   0.00644879]\n",
      " [ 0.0009077   0.00037341  0.00128613 ..., -0.0009993   0.00114355\n",
      "   0.00034134]\n",
      " [ 0.00197425  0.00314111  0.00084181 ...,  0.00179483 -0.00218157\n",
      "   0.00110065]\n",
      " ..., \n",
      " [ 0.01143835 -0.01399921  0.00102883 ..., -0.01075194 -0.00254922\n",
      "   0.01697178]\n",
      " [ 0.0005206  -0.00072914  0.00109065 ..., -0.00291007 -0.00028838\n",
      "   0.00456309]\n",
      " [ 0.00860718  0.00606858  0.00896563 ...,  0.00111897  0.00550515\n",
      "  -0.0008641 ]]\n",
      "Sigma\n",
      "[ 237.0752689   109.19821515  101.0197619    85.35584046   77.68640498\n",
      "   75.40894714   70.38490804   65.40309586   60.14595466   58.04378881\n",
      "   56.20226546   52.86311181   51.38959112   50.80776471   48.77110996\n",
      "   47.55366851   46.88032746   45.40121728   45.11949298   44.75176752]\n",
      "VT\n",
      "[[  7.98430729e-02   1.84398027e-01   1.01340249e-01 ...,   7.21868809e-04\n",
      "    4.47703407e-04   2.55032288e-04]\n",
      " [ -1.28982504e-01  -1.76052758e-01  -1.55231848e-01 ...,   6.11868745e-04\n",
      "    2.07116606e-04   3.69152039e-04]\n",
      " [  7.92449483e-02  -8.79277621e-02   9.57457358e-02 ...,  -1.63014687e-03\n",
      "    7.56767276e-04  -6.31808905e-04]\n",
      " ..., \n",
      " [  1.01704621e-01  -7.40193970e-03  -4.43091977e-02 ...,  -2.51684880e-04\n",
      "   -7.96801856e-04  -5.35816874e-05]\n",
      " [  6.15369832e-02   8.62013889e-03   9.67187660e-02 ...,  -9.02801244e-04\n",
      "    1.07652887e-03   6.21105612e-06]\n",
      " [ -6.15386198e-02  -2.78355849e-02   6.72945479e-02 ...,   6.76217954e-04\n",
      "    3.19024946e-04  -2.22766512e-04]]\n",
      "22.340402\n"
     ]
    }
   ],
   "source": [
    "R_df = ratings_df.pivot(index = 'User-ID', columns ='Book-ID', values = 'Rating').fillna(0)\n",
    "start=time.clock()\n",
    "R = R_df.as_matrix()\n",
    "user_ratings_mean = np.mean(R, axis = 1)\n",
    "\n",
    "R_demeaned = R - user_ratings_mean.reshape(-1, 1)\n",
    "U, Sigma, VT = randomized_svd(R,n_components=20)\n",
    "\n",
    "svd = TruncatedSVD(n_components=20, n_iter=7)\n",
    "svd.fit(R)\n",
    "print(\"U\")\n",
    "print(U)\n",
    "print(\"Sigma\")\n",
    "print(Sigma)\n",
    "print(\"VT\")\n",
    "print(VT)\n",
    "print(time.clock() - start)"
   ]
  },
  {
   "cell_type": "code",
   "execution_count": null,
   "metadata": {
    "collapsed": true
   },
   "outputs": [],
   "source": []
  }
 ],
 "metadata": {
  "kernelspec": {
   "display_name": "Python 3",
   "language": "python",
   "name": "python3"
  },
  "language_info": {
   "codemirror_mode": {
    "name": "ipython",
    "version": 3
   },
   "file_extension": ".py",
   "mimetype": "text/x-python",
   "name": "python",
   "nbconvert_exporter": "python",
   "pygments_lexer": "ipython3",
   "version": "3.6.2"
  }
 },
 "nbformat": 4,
 "nbformat_minor": 2
}
